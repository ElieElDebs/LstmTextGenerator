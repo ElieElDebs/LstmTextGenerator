{
 "cells": [
  {
   "cell_type": "code",
   "execution_count": 7,
   "metadata": {},
   "outputs": [],
   "source": [
    "from keras.models import load_model\n",
    "import numpy as np"
   ]
  },
  {
   "cell_type": "code",
   "execution_count": 4,
   "metadata": {},
   "outputs": [],
   "source": [
    "class Generator () :\n",
    "    \n",
    "    def __init__(self, model_file_path:str, vocab_file_path : str=\"./../Data/Dataset/Matthieu_processed.txt\", seq_len=150):\n",
    "\n",
    "        self.__model = load_model(model_file_path)\n",
    "\n",
    "        self.__vocab_file_path:str = vocab_file_path\n",
    "        self.__vocab:dict = self.__init_vocab()\n",
    "\n",
    "        self.__int_to_char:dict = dict((i, c) for i, c in enumerate(self.__vocab))\n",
    "        self.__char_to_int:dict = dict ((c,i) for i, c in enumerate(self.__vocab))\n",
    "\n",
    "        self.__sequence_length:int = seq_len\n",
    "    \n",
    "    def __init_vocab (self) -> dict :\n",
    "\n",
    "        with open (self.__vocab_file_path,\"r\") as file :\n",
    "\n",
    "            vocab = sorted(set(file.read()))\n",
    "\n",
    "        return vocab\n",
    "\n",
    "    def generate_sentence (self, seed : str, numbeOfCharToGenerate : int=500, save_to_file:bool=False, file_to_save:str=None) -> str :\n",
    "\n",
    "        if len (seed) >= self.__sequence_length :\n",
    "\n",
    "            print (\"Your seed text should not exceed : \" + str(self.__sequence_length))\n",
    "            return None\n",
    "\n",
    "        original_sentence = seed.lower()\n",
    "\n",
    "        # Generate Sentence\n",
    "        sentence = \"\"\n",
    "\n",
    "        # Lower the input \n",
    "        input_seed = seed.lower()\n",
    "\n",
    "        #replace \"'\"\n",
    "        input_seed = input_seed.replace(\"'\", \" \")\n",
    "\n",
    "        # Transform the ascii char to vector of int\n",
    "        input_seed = [self.__char_to_int[char] for char in input_seed]\n",
    "\n",
    "        # Padding Element\n",
    "        for i in range (self.__sequence_length-len (input_seed)) :\n",
    "            input_seed.append(0)\n",
    "\n",
    "        # Put in LSTM format\n",
    "        input_seed = np.reshape(input_seed, (1, len(input_seed), 1))\n",
    "\n",
    "        # Squeeze to float\n",
    "        input_seed = input_seed / float(len (self.__vocab))\n",
    "\n",
    "        for _ in range (numbeOfCharToGenerate):\n",
    "\n",
    "            prediction = self.__model.predict(input_seed, verbose=0)\n",
    "            index = np.argmax(prediction)\n",
    "            predicted_char = self.__int_to_char[index]\n",
    "            sentence = sentence+str(predicted_char)\n",
    "\n",
    "            # update Input Seed\n",
    "            predicted_char_int:int = self.__char_to_int[predicted_char]\n",
    "            predicted_char_int:float = predicted_char_int/float(len (self.__vocab))\n",
    "            input_seed = np.append(input_seed, predicted_char_int)\n",
    "            input_seed = np.delete(input_seed, 0) \n",
    "            input_seed = np.reshape(input_seed, (1, len(input_seed), 1))\n",
    "\n",
    "        sentence = original_sentence + sentence\n",
    "\n",
    "        if save_to_file == True :\n",
    "\n",
    "            if file_to_save == None :\n",
    "\n",
    "                print (\"Did not save to file : File Path argument = None\")\n",
    "            else :\n",
    "                with open(file_to_save, \"w\") as file :\n",
    "                    file.write(sentence)\n",
    "\n",
    "        return sentence"
   ]
  },
  {
   "cell_type": "code",
   "execution_count": 6,
   "metadata": {},
   "outputs": [],
   "source": [
    "generator = Generator(\n",
    "    model_file_path=\"./../Model/model.hdf5\",\n",
    "    vocab_file_path=\"./../Data/Dataset/Matthieu_processed.txt\"\n",
    "    )"
   ]
  },
  {
   "cell_type": "code",
   "execution_count": 10,
   "metadata": {},
   "outputs": [],
   "source": [
    "generated_text = generator.generate_sentence(\n",
    "                                        seed=\"The seed of the text to generate ...\", \n",
    "                                        numbeOfCharToGenerate=100, \n",
    "                                        save_to_file=True, \n",
    "                                        file_to_save=\"./result.txt\"\n",
    "                                    )"
   ]
  },
  {
   "cell_type": "code",
   "execution_count": 11,
   "metadata": {},
   "outputs": [
    {
     "name": "stdout",
     "output_type": "stream",
     "text": [
      "the seed of the text to generate ...p à lou ; allra asssi jes huuritses  il sera donnéa unr une couierie me pripière pas de dieu vienses\n"
     ]
    }
   ],
   "source": [
    "print (generated_text)"
   ]
  }
 ],
 "metadata": {
  "kernelspec": {
   "display_name": "Python 3",
   "language": "python",
   "name": "python3"
  },
  "language_info": {
   "codemirror_mode": {
    "name": "ipython",
    "version": 3
   },
   "file_extension": ".py",
   "mimetype": "text/x-python",
   "name": "python",
   "nbconvert_exporter": "python",
   "pygments_lexer": "ipython3",
   "version": "3.8.10"
  }
 },
 "nbformat": 4,
 "nbformat_minor": 2
}
